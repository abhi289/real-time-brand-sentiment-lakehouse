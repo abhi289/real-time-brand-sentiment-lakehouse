{
 "cells": [
  {
   "cell_type": "code",
   "execution_count": 0,
   "metadata": {
    "application/vnd.databricks.v1+cell": {
     "cellMetadata": {},
     "inputWidgets": {},
     "nuid": "f51f5d7c-6254-4e50-a643-d9a7d20ee5d1",
     "showTitle": false,
     "tableResultSettingsMap": {},
     "title": ""
    }
   },
   "outputs": [],
   "source": [
    "-- Brand Sentiment Comparison\n",
    "SELECT \n",
    "  brand,\n",
    "  SUM(CASE WHEN Sentiment_score = 1 THEN count ELSE 0 END) as positive_mentions,\n",
    "  SUM(CASE WHEN Sentiment_score = 0 THEN count ELSE 0 END) as negative_mentions,\n",
    "  SUM(count) as total_mentions,\n",
    "  ROUND(SUM(CASE WHEN Sentiment_score = 1 THEN count ELSE 0 END) * 100.0 / SUM(count), 2) as positive_percentage\n",
    "FROM delta.`/Volumes/workspace/default/my_volume/Sentiment_Project/enhancements/gold/brand_demo_sentiment/`\n",
    "WHERE brand IS NOT NULL\n",
    "GROUP BY brand\n",
    "HAVING total_mentions > 0\n",
    "ORDER BY positive_percentage DESC\n"
   ]
  }
 ],
 "metadata": {
  "application/vnd.databricks.v1+notebook": {
   "computePreferences": null,
   "dashboards": [],
   "environmentMetadata": null,
   "inputWidgetPreferences": null,
   "language": "sql",
   "notebookMetadata": {
    "sqlQueryOptions": {
     "applyAutoLimit": true,
     "catalog": "workspace",
     "schema": "default"
    }
   },
   "notebookName": "Brand Sentiment Comparison.dbquery.ipynb",
   "widgets": {}
  },
  "language_info": {
   "name": "sql"
  }
 },
 "nbformat": 4,
 "nbformat_minor": 0
}
