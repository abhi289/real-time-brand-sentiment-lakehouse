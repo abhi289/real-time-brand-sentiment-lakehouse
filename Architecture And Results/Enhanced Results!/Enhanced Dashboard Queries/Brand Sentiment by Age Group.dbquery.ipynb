{
 "cells": [
  {
   "cell_type": "code",
   "execution_count": 0,
   "metadata": {
    "application/vnd.databricks.v1+cell": {
     "cellMetadata": {},
     "inputWidgets": {},
     "nuid": "67c36baf-5c57-439a-95df-a7d677e4ad57",
     "showTitle": false,
     "tableResultSettingsMap": {},
     "title": ""
    }
   },
   "outputs": [],
   "source": [
    "-- Brand Sentiment by Age Group\n",
    "SELECT \n",
    "  brand,\n",
    "  Age_group,\n",
    "  SUM(count) as total_mentions,\n",
    "  ROUND(SUM(CASE WHEN Sentiment_score = 1 THEN count ELSE 0 END) * 100.0 / SUM(count), 2) as positive_percentage\n",
    "FROM delta.`/Volumes/workspace/default/my_volume/Sentiment_Project/enhancements/gold/brand_demo_sentiment/`\n",
    "WHERE brand IS NOT NULL AND Age_group IS NOT NULL AND Age_group != ''\n",
    "GROUP BY brand, Age_group\n",
    "HAVING total_mentions > 5\n",
    "ORDER BY brand, \n",
    "  CASE \n",
    "    WHEN Age_group = '0-20' THEN 1\n",
    "    WHEN Age_group = '21-30' THEN 2\n",
    "    WHEN Age_group = '31-45' THEN 3\n",
    "    WHEN Age_group = '46-60' THEN 4\n",
    "    WHEN Age_group = '60-70' THEN 5\n",
    "    WHEN Age_group = '70-100' THEN 6\n",
    "    ELSE 7\n",
    "  END"
   ]
  }
 ],
 "metadata": {
  "application/vnd.databricks.v1+notebook": {
   "computePreferences": null,
   "dashboards": [],
   "environmentMetadata": null,
   "inputWidgetPreferences": null,
   "language": "sql",
   "notebookMetadata": {
    "sqlQueryOptions": {
     "applyAutoLimit": true,
     "catalog": "workspace",
     "schema": "default"
    }
   },
   "notebookName": "Brand Sentiment by Age Group.dbquery.ipynb",
   "widgets": {}
  },
  "language_info": {
   "name": "sql"
  }
 },
 "nbformat": 4,
 "nbformat_minor": 0
}
