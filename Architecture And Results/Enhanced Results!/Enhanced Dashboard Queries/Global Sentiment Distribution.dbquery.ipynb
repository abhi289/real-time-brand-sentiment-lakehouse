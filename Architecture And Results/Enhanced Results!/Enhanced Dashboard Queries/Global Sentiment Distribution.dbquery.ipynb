{
 "cells": [
  {
   "cell_type": "code",
   "execution_count": 0,
   "metadata": {
    "application/vnd.databricks.v1+cell": {
     "cellMetadata": {},
     "inputWidgets": {},
     "nuid": "6b84b8e0-f427-48ee-8f21-7533b0556043",
     "showTitle": false,
     "tableResultSettingsMap": {},
     "title": ""
    }
   },
   "outputs": [],
   "source": [
    "-- World Sentiment Heatmap\n",
    "SELECT \n",
    "  Country,\n",
    "  SUM(CASE WHEN Sentiment_score = 1 THEN count ELSE 0 END) as positive_mentions,\n",
    "  SUM(CASE WHEN Sentiment_score = 0 THEN count ELSE 0 END) as negative_mentions,\n",
    "  SUM(count) as total_mentions,\n",
    "  ROUND(SUM(CASE WHEN Sentiment_score = 1 THEN count ELSE 0 END) * 100.0 / SUM(count), 2) as positive_percentage\n",
    "FROM delta.`/Volumes/workspace/default/my_volume/Sentiment_Project/enhancements/gold/brand_demo_sentiment`\n",
    "WHERE Country IS NOT NULL AND Country != ''\n",
    "GROUP BY Country\n",
    "HAVING total_mentions > 2"
   ]
  }
 ],
 "metadata": {
  "application/vnd.databricks.v1+notebook": {
   "computePreferences": null,
   "dashboards": [],
   "environmentMetadata": null,
   "inputWidgetPreferences": null,
   "language": "sql",
   "notebookMetadata": {
    "sqlQueryOptions": {
     "applyAutoLimit": true,
     "catalog": "workspace",
     "schema": "default"
    }
   },
   "notebookName": "Global Sentiment Distribution.dbquery.ipynb",
   "widgets": {}
  },
  "language_info": {
   "name": "sql"
  }
 },
 "nbformat": 4,
 "nbformat_minor": 0
}
