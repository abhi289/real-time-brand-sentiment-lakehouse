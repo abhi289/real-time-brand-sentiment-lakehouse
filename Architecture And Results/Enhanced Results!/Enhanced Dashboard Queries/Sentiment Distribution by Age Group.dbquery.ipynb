{
 "cells": [
  {
   "cell_type": "code",
   "execution_count": 0,
   "metadata": {
    "application/vnd.databricks.v1+cell": {
     "cellMetadata": {},
     "inputWidgets": {},
     "nuid": "e5367048-0791-4835-b690-62c1a5e69465",
     "showTitle": false,
     "tableResultSettingsMap": {},
     "title": ""
    }
   },
   "outputs": [],
   "source": [
    "SELECT \n",
    "  Age_group as age_group,\n",
    "  Sentiment,\n",
    "  SUM(count) as mention_count\n",
    "FROM delta.`/Volumes/workspace/default/my_volume/Sentiment_Project/enhancements/gold/brand_demo_sentiment/`\n",
    "WHERE Age_group IS NOT NULL AND Age_group != ''\n",
    "GROUP BY Age_group, Sentiment\n",
    "ORDER BY \n",
    "  CASE \n",
    "    WHEN Age_group = '0-20' THEN 1\n",
    "    WHEN Age_group = '21-30' THEN 2\n",
    "    WHEN Age_group = '31-45' THEN 3\n",
    "    WHEN Age_group = '46-60' THEN 4\n",
    "    WHEN Age_group = '60-70' THEN 5\n",
    "    WHEN Age_group = '70-100' THEN 6\n",
    "    ELSE 7\n",
    "  END,\n",
    "  Sentiment"
   ]
  }
 ],
 "metadata": {
  "application/vnd.databricks.v1+notebook": {
   "computePreferences": null,
   "dashboards": [],
   "environmentMetadata": null,
   "inputWidgetPreferences": null,
   "language": "sql",
   "notebookMetadata": {
    "sqlQueryOptions": {
     "applyAutoLimit": true,
     "catalog": "workspace",
     "schema": "default"
    }
   },
   "notebookName": "Sentiment Distribution by Age Group.dbquery.ipynb",
   "widgets": {}
  },
  "language_info": {
   "name": "sql"
  }
 },
 "nbformat": 4,
 "nbformat_minor": 0
}
