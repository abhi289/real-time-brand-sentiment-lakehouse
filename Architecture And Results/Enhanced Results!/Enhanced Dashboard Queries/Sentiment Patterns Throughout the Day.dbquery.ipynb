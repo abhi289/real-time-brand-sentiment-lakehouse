{
 "cells": [
  {
   "cell_type": "code",
   "execution_count": 0,
   "metadata": {
    "application/vnd.databricks.v1+cell": {
     "cellMetadata": {},
     "inputWidgets": {},
     "nuid": "9a92f754-005a-4e4d-a30b-6c1214b92138",
     "showTitle": false,
     "tableResultSettingsMap": {},
     "title": ""
    }
   },
   "outputs": [],
   "source": [
    "-- Sentiment by Time of Day\n",
    "SELECT \n",
    "  Time_category as time_category,\n",
    "  sentiment,\n",
    "  SUM(count) as mention_count,\n",
    "  ROUND(SUM(CASE WHEN Sentiment_score = 1 THEN count ELSE 0 END) * 100.0 / SUM(count), 2) as positive_percentage\n",
    "FROM delta.`/Volumes/workspace/default/my_volume/Sentiment_Project/enhancements/gold/time_sentiment/`\n",
    "WHERE Time_category IS NOT NULL AND Time_category != ''\n",
    "GROUP BY Time_category, sentiment\n",
    "ORDER BY \n",
    "  CASE \n",
    "    WHEN Time_category = 'morning' THEN 1\n",
    "    WHEN Time_category = 'noon' THEN 2\n",
    "    WHEN Time_category = 'night' THEN 3\n",
    "    ELSE 4\n",
    "  END,\n",
    "  sentiment"
   ]
  }
 ],
 "metadata": {
  "application/vnd.databricks.v1+notebook": {
   "computePreferences": null,
   "dashboards": [],
   "environmentMetadata": null,
   "inputWidgetPreferences": null,
   "language": "sql",
   "notebookMetadata": {
    "sqlQueryOptions": {
     "applyAutoLimit": true,
     "catalog": "workspace",
     "schema": "default"
    }
   },
   "notebookName": "Sentiment Patterns Throughout the Day.dbquery.ipynb",
   "widgets": {}
  },
  "language_info": {
   "name": "sql"
  }
 },
 "nbformat": 4,
 "nbformat_minor": 0
}
