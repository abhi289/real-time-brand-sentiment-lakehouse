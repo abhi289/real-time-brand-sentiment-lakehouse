{
 "cells": [
  {
   "cell_type": "code",
   "execution_count": 0,
   "metadata": {
    "application/vnd.databricks.v1+cell": {
     "cellMetadata": {},
     "inputWidgets": {},
     "nuid": "299458b5-6894-404c-b307-93366176030f",
     "showTitle": false,
     "tableResultSettingsMap": {},
     "title": ""
    }
   },
   "outputs": [
    {
     "output_type": "display_data",
     "data": {
      "text/plain": [
       "Databricks visualization. Run in Databricks to view."
      ]
     },
     "metadata": {
      "application/vnd.databricks.v1.subcommand+json": {
       "baseErrorDetails": null,
       "bindings": {},
       "collapsed": false,
       "command": "SELECT * FROM delta.`/Volumes/workspace/default/my_volume/Sentiment_Project/gold_brand_sentiment_summary`\nORDER BY brand, sentiment;\n\nSELECT \n  brand,\n  SUM(CASE WHEN sentiment = 1 THEN count ELSE 0 END) AS positive_count,\n  SUM(CASE WHEN sentiment = 0 THEN count ELSE 0 END) AS negative_count,\n  ROUND(SUM(CASE WHEN sentiment = 1 THEN count ELSE 0 END) / SUM(count), 2) AS positive_ratio\nFROM delta.`/Volumes/workspace/default/my_volume/Sentiment_Project/gold_brand_sentiment_summary`\nGROUP BY brand\nORDER BY positive_ratio DESC\n\n",
       "commandTitle": "Table",
       "commandType": "auto",
       "commandVersion": 0,
       "commentThread": [],
       "commentsVisible": false,
       "contentSha256Hex": null,
       "customPlotOptions": {
        "redashChart": [
         {
          "key": "type",
          "value": "TABLE"
         },
         {
          "key": "options",
          "value": {
           "columns": [
            {
             "alignContent": "left",
             "allowHTML": false,
             "allowSearch": false,
             "booleanValues": [
              "false",
              "true"
             ],
             "displayAs": "string",
             "highlightLinks": false,
             "imageHeight": "",
             "imageTitleTemplate": "{{ @ }}",
             "imageUrlTemplate": "{{ @ }}",
             "imageWidth": "",
             "linkOpenInNewTab": true,
             "linkTextTemplate": "{{ @ }}",
             "linkTitleTemplate": "{{ @ }}",
             "linkUrlTemplate": "{{ @ }}",
             "name": "Brand",
             "order": 100000,
             "preserveWhitespace": false,
             "title": "Brand",
             "type": "string",
             "useMonospaceFont": false,
             "visible": true
            },
            {
             "alignContent": "right",
             "allowHTML": false,
             "allowSearch": false,
             "booleanValues": [
              "false",
              "true"
             ],
             "displayAs": "number",
             "highlightLinks": false,
             "imageHeight": "",
             "imageTitleTemplate": "{{ @ }}",
             "imageUrlTemplate": "{{ @ }}",
             "imageWidth": "",
             "linkOpenInNewTab": true,
             "linkTextTemplate": "{{ @ }}",
             "linkTitleTemplate": "{{ @ }}",
             "linkUrlTemplate": "{{ @ }}",
             "name": "Sentiment",
             "numberFormat": "0",
             "order": 100001,
             "preserveWhitespace": false,
             "title": "Sentiment",
             "type": "integer",
             "useMonospaceFont": false,
             "visible": true
            },
            {
             "alignContent": "right",
             "allowHTML": false,
             "allowSearch": false,
             "booleanValues": [
              "false",
              "true"
             ],
             "displayAs": "number",
             "highlightLinks": false,
             "imageHeight": "",
             "imageTitleTemplate": "{{ @ }}",
             "imageUrlTemplate": "{{ @ }}",
             "imageWidth": "",
             "linkOpenInNewTab": true,
             "linkTextTemplate": "{{ @ }}",
             "linkTitleTemplate": "{{ @ }}",
             "linkUrlTemplate": "{{ @ }}",
             "name": "Count",
             "numberFormat": "0",
             "order": 100002,
             "preserveWhitespace": false,
             "title": "Count",
             "type": "integer",
             "useMonospaceFont": false,
             "visible": true
            }
           ],
           "condensed": true,
           "itemsPerPage": 25,
           "version": 2,
           "withRowNumber": false
          }
         }
        ]
       },
       "datasetPreviewNameToCmdIdMap": {},
       "diffDeletes": [],
       "diffInserts": [],
       "displayType": "redashChart",
       "error": null,
       "errorDetails": null,
       "errorSummary": null,
       "errorTraceType": null,
       "finishTime": 0,
       "globalVars": {},
       "guid": "",
       "height": "auto",
       "hideCommandCode": false,
       "hideCommandResult": false,
       "iPythonMetadata": null,
       "inputWidgets": {},
       "isLockedInExamMode": false,
       "latestAssumeRoleInfo": null,
       "latestUser": "a user",
       "latestUserId": null,
       "listResultMetadata": null,
       "metadata": {},
       "nuid": "4d8342bd-f63f-42a1-8fc0-59f415e5bd82",
       "origId": 0,
       "parentHierarchy": [],
       "pivotAggregation": null,
       "pivotColumns": null,
       "position": 2.0,
       "resultDbfsErrorMessage": null,
       "resultDbfsStatus": "INLINED_IN_TREE",
       "results": null,
       "showCommandTitle": false,
       "startTime": 0,
       "state": "input",
       "streamStates": {},
       "subcommandOptions": {
        "redashId": "09a14a35-8ee5-403d-8a7c-993c1e7d33d0",
        "redashLastUpdated": 1757433909000
       },
       "submitTime": 0,
       "subtype": "tableResultSubCmd.visualization",
       "tableResultIndex": 0,
       "tableResultSettingsMap": {},
       "useConsistentColors": false,
       "version": "CommandV1",
       "width": "auto",
       "workflows": null,
       "xColumns": null,
       "yColumns": null
      }
     },
     "output_type": "display_data"
    },
    {
     "output_type": "display_data",
     "data": {
      "text/plain": [
       "Databricks visualization. Run in Databricks to view."
      ]
     },
     "metadata": {
      "application/vnd.databricks.v1.subcommand+json": {
       "baseErrorDetails": null,
       "bindings": {},
       "collapsed": false,
       "command": "%sql WITH q AS (SELECT \n  brand,\n  SUM(CASE WHEN sentiment = 1 THEN count ELSE 0 END) AS positive_count,\n  SUM(CASE WHEN sentiment = 0 THEN count ELSE 0 END) AS negative_count,\n  ROUND(SUM(CASE WHEN sentiment = 1 THEN count ELSE 0 END) / SUM(count), 2) AS positive_ratio\nFROM delta.`/Volumes/workspace/default/my_volume/Sentiment_Project/gold_brand_sentiment_summary`\nGROUP BY brand\nORDER BY positive_ratio DESC) SELECT `Brand`,SUM(`Count`) `column_65fbf43687`,`Sentiment` FROM q GROUP BY `Brand`,`Sentiment`",
       "commandTitle": "Overall Sentiment Distribution",
       "commandType": "auto",
       "commandVersion": 0,
       "commentThread": [],
       "commentsVisible": false,
       "contentSha256Hex": null,
       "customPlotOptions": {
        "redashChart": [
         {
          "key": "type",
          "value": "CHART"
         },
         {
          "key": "options",
          "value": {
           "alignYAxesAtZero": true,
           "coefficient": 1,
           "columnConfigurationMap": {
            "series": {
             "column": "Sentiment",
             "id": "column_65fbf436101"
            },
            "x": {
             "column": "Brand",
             "id": "column_65fbf436102"
            },
            "y": [
             {
              "column": "Count",
              "id": "column_65fbf43687",
              "transform": "SUM"
             }
            ]
           },
           "dateTimeFormat": "YYYY-MM-DD HH:mm",
           "direction": {
            "type": "counterclockwise"
           },
           "error_y": {
            "type": "data",
            "visible": true
           },
           "globalSeriesType": "pie",
           "isAggregationOn": true,
           "legend": {
            "traceorder": "normal"
           },
           "missingValuesAsZero": false,
           "numberFormat": "0,0.[00000]",
           "percentFormat": "0[.]00%",
           "series": {
            "error_y": {
             "type": "data",
             "visible": true
            },
            "stacking": null
           },
           "seriesOptions": {
            "0": {
             "name": "Negative"
            },
            "1": {
             "name": "Positive"
            },
            "column_65fbf43687": {
             "name": "Count",
             "type": "pie",
             "yAxis": 0
            }
           },
           "showDataLabels": true,
           "sizemode": "diameter",
           "sortX": true,
           "sortY": true,
           "swappedAxes": false,
           "textFormat": "",
           "useAggregationsUi": true,
           "valuesOptions": {},
           "version": 2,
           "xAxis": {
            "labels": {
             "enabled": true
            },
            "type": "-"
           },
           "yAxis": [
            {
             "type": "-"
            },
            {
             "opposite": true,
             "type": "-"
            }
           ]
          }
         }
        ]
       },
       "datasetPreviewNameToCmdIdMap": {},
       "diffDeletes": [],
       "diffInserts": [],
       "displayType": "redashChart",
       "error": null,
       "errorDetails": null,
       "errorSummary": null,
       "errorTraceType": null,
       "finishTime": 0,
       "globalVars": {},
       "guid": "",
       "height": "auto",
       "hideCommandCode": false,
       "hideCommandResult": false,
       "iPythonMetadata": null,
       "inputWidgets": {},
       "isLockedInExamMode": false,
       "latestAssumeRoleInfo": null,
       "latestUser": "a user",
       "latestUserId": null,
       "listResultMetadata": null,
       "metadata": {},
       "nuid": "6c155d36-677a-4a1f-bb4f-21281c6cd73d",
       "origId": 0,
       "parentHierarchy": [],
       "pivotAggregation": null,
       "pivotColumns": null,
       "position": 3.0,
       "resultDbfsErrorMessage": null,
       "resultDbfsStatus": "INLINED_IN_TREE",
       "results": null,
       "showCommandTitle": false,
       "startTime": 0,
       "state": "input",
       "streamStates": {},
       "subcommandOptions": {
        "queryPlan": {
         "groups": [
          {
           "column": "Brand",
           "type": "column"
          },
          {
           "column": "Sentiment",
           "type": "column"
          }
         ],
         "selects": [
          {
           "column": "Brand",
           "type": "column"
          },
          {
           "alias": "column_65fbf43687",
           "args": [
            {
             "column": "Count",
             "type": "column"
            }
           ],
           "function": "SUM",
           "type": "function"
          },
          {
           "column": "Sentiment",
           "type": "column"
          }
         ]
        },
        "redashId": "175b7f95-f91d-4266-948c-426237291e3d",
        "redashLastUpdated": 1757433619000
       },
       "submitTime": 0,
       "subtype": "tableResultSubCmd.visualization",
       "tableResultIndex": 0,
       "tableResultSettingsMap": {},
       "useConsistentColors": false,
       "version": "CommandV1",
       "width": "auto",
       "workflows": null,
       "xColumns": null,
       "yColumns": null
      }
     },
     "output_type": "display_data"
    },
    {
     "output_type": "display_data",
     "data": {
      "text/plain": [
       "Databricks visualization. Run in Databricks to view."
      ]
     },
     "metadata": {
      "application/vnd.databricks.v1.subcommand+json": {
       "baseErrorDetails": null,
       "bindings": {},
       "collapsed": false,
       "command": "%sql WITH q AS (SELECT \n  brand,\n  SUM(CASE WHEN sentiment = 1 THEN count ELSE 0 END) AS positive_count,\n  SUM(CASE WHEN sentiment = 0 THEN count ELSE 0 END) AS negative_count,\n  ROUND(SUM(CASE WHEN sentiment = 1 THEN count ELSE 0 END) / SUM(count), 2) AS positive_ratio\nFROM delta.`/Volumes/workspace/default/my_volume/Sentiment_Project/gold_brand_sentiment_summary`\nGROUP BY brand\nORDER BY positive_ratio DESC) SELECT `Brand`,`Sentiment`,SUM(`Count`) `column_ef5e0dfb649` FROM q GROUP BY `Brand`,`Sentiment`",
       "commandTitle": "Sentiment Distribution by Brand",
       "commandType": "auto",
       "commandVersion": 0,
       "commentThread": [],
       "commentsVisible": false,
       "contentSha256Hex": null,
       "customPlotOptions": {
        "redashChart": [
         {
          "key": "type",
          "value": "CHART"
         },
         {
          "key": "options",
          "value": {
           "alignYAxesAtZero": true,
           "coefficient": 1,
           "columnConfigurationMap": {
            "series": {
             "column": "Sentiment",
             "id": "column_ef5e0dfb651"
            },
            "x": {
             "column": "Brand",
             "id": "column_ef5e0dfb646"
            },
            "y": [
             {
              "column": "Count",
              "id": "column_ef5e0dfb649",
              "transform": "SUM"
             }
            ]
           },
           "condensed": true,
           "dateTimeFormat": "YYYY-MM-DD HH:mm",
           "direction": {
            "type": "counterclockwise"
           },
           "error_y": {
            "type": "data",
            "visible": true
           },
           "globalSeriesType": "column",
           "hideXAxis": false,
           "isAggregationOn": true,
           "legend": {
            "traceorder": "normal"
           },
           "missingValuesAsZero": true,
           "numBins": 10,
           "numberFormat": "0,0.[00000]",
           "percentFormat": "0[.]00%",
           "reverseX": false,
           "series": {
            "error_y": {
             "type": "data",
             "visible": true
            },
            "stacking": null
           },
           "seriesOptions": {
            "column_ef5e0dfb641": {
             "name": "Count",
             "type": "column",
             "yAxis": 0
            },
            "column_ef5e0dfb649": {
             "type": "column",
             "yAxis": 0
            }
           },
           "showDataLabels": false,
           "sizemode": "diameter",
           "sortX": true,
           "sortY": true,
           "swappedAxes": false,
           "textFormat": "",
           "useAggregationsUi": true,
           "valuesOptions": {},
           "version": 2,
           "withRowNumber": true,
           "xAxis": {
            "labels": {
             "enabled": true
            },
            "title": {
             "text": "Brand"
            },
            "type": "-"
           },
           "yAxis": [
            {
             "title": {
              "text": "Count"
             },
             "type": "-"
            },
            {
             "opposite": true,
             "type": "-"
            }
           ]
          }
         }
        ]
       },
       "datasetPreviewNameToCmdIdMap": {},
       "diffDeletes": [],
       "diffInserts": [],
       "displayType": "redashChart",
       "error": null,
       "errorDetails": null,
       "errorSummary": null,
       "errorTraceType": null,
       "finishTime": 0,
       "globalVars": {},
       "guid": "",
       "height": "auto",
       "hideCommandCode": false,
       "hideCommandResult": false,
       "iPythonMetadata": null,
       "inputWidgets": {},
       "isLockedInExamMode": false,
       "latestAssumeRoleInfo": null,
       "latestUser": "a user",
       "latestUserId": null,
       "listResultMetadata": null,
       "metadata": {},
       "nuid": "e82b4844-316d-4130-95ca-5880d3469e24",
       "origId": 0,
       "parentHierarchy": [],
       "pivotAggregation": null,
       "pivotColumns": null,
       "position": 4.0,
       "resultDbfsErrorMessage": null,
       "resultDbfsStatus": "INLINED_IN_TREE",
       "results": null,
       "showCommandTitle": false,
       "startTime": 0,
       "state": "input",
       "streamStates": {},
       "subcommandOptions": {
        "queryPlan": {
         "groups": [
          {
           "column": "Brand",
           "type": "column"
          },
          {
           "column": "Sentiment",
           "type": "column"
          }
         ],
         "selects": [
          {
           "column": "Brand",
           "type": "column"
          },
          {
           "column": "Sentiment",
           "type": "column"
          },
          {
           "alias": "column_ef5e0dfb649",
           "args": [
            {
             "column": "Count",
             "type": "column"
            }
           ],
           "function": "SUM",
           "type": "function"
          }
         ]
        },
        "redashId": "393cf2bf-6e7a-4c4e-af74-2290c0708721",
        "redashLastUpdated": 1757433151000
       },
       "submitTime": 0,
       "subtype": "tableResultSubCmd.visualization",
       "tableResultIndex": 0,
       "tableResultSettingsMap": {},
       "useConsistentColors": false,
       "version": "CommandV1",
       "width": "auto",
       "workflows": null,
       "xColumns": null,
       "yColumns": null
      }
     },
     "output_type": "display_data"
    },
    {
     "output_type": "display_data",
     "data": {
      "text/plain": [
       "Databricks visualization. Run in Databricks to view."
      ]
     },
     "metadata": {
      "application/vnd.databricks.v1.subcommand+json": {
       "baseErrorDetails": null,
       "bindings": {},
       "collapsed": false,
       "command": "SELECT * FROM delta.`/Volumes/workspace/default/my_volume/Sentiment_Project/gold_brand_sentiment_summary`\nORDER BY brand, sentiment;\n\nSELECT \n  brand,\n  SUM(CASE WHEN sentiment = 1 THEN count ELSE 0 END) AS positive_count,\n  SUM(CASE WHEN sentiment = 0 THEN count ELSE 0 END) AS negative_count,\n  ROUND(SUM(CASE WHEN sentiment = 1 THEN count ELSE 0 END) / SUM(count), 2) AS positive_ratio\nFROM delta.`/Volumes/workspace/default/my_volume/Sentiment_Project/gold_brand_sentiment_summary`\nGROUP BY brand\nORDER BY positive_ratio DESC\n\n",
       "commandTitle": "Results",
       "commandType": "auto",
       "commandVersion": 0,
       "commentThread": [],
       "commentsVisible": false,
       "contentSha256Hex": null,
       "customPlotOptions": {
        "redashChart": [
         {
          "key": "type",
          "value": "TABLE"
         },
         {
          "key": "options",
          "value": {
           "version": 2
          }
         }
        ]
       },
       "datasetPreviewNameToCmdIdMap": {},
       "diffDeletes": [],
       "diffInserts": [],
       "displayType": "redashChart",
       "error": null,
       "errorDetails": null,
       "errorSummary": null,
       "errorTraceType": null,
       "finishTime": 0,
       "globalVars": {},
       "guid": "",
       "height": "auto",
       "hideCommandCode": false,
       "hideCommandResult": false,
       "iPythonMetadata": null,
       "inputWidgets": {},
       "isLockedInExamMode": false,
       "latestAssumeRoleInfo": null,
       "latestUser": "a user",
       "latestUserId": null,
       "listResultMetadata": null,
       "metadata": {},
       "nuid": "5a9da2c5-5c63-4cb0-992d-24399e4071ad",
       "origId": 0,
       "parentHierarchy": [],
       "pivotAggregation": null,
       "pivotColumns": null,
       "position": 5.0,
       "resultDbfsErrorMessage": null,
       "resultDbfsStatus": "INLINED_IN_TREE",
       "results": null,
       "showCommandTitle": false,
       "startTime": 0,
       "state": "input",
       "streamStates": {},
       "subcommandOptions": {
        "redashId": "7b6426b2-3b02-4be9-a4cf-652cdeed1b97",
        "redashLastUpdated": 1757432342000
       },
       "submitTime": 0,
       "subtype": "tableResultSubCmd.visualization",
       "tableResultIndex": 0,
       "tableResultSettingsMap": {},
       "useConsistentColors": false,
       "version": "CommandV1",
       "width": "auto",
       "workflows": null,
       "xColumns": null,
       "yColumns": null
      }
     },
     "output_type": "display_data"
    },
    {
     "output_type": "display_data",
     "data": {
      "text/plain": [
       "Databricks visualization. Run in Databricks to view."
      ]
     },
     "metadata": {
      "application/vnd.databricks.v1.subcommand+json": {
       "baseErrorDetails": null,
       "bindings": {},
       "collapsed": false,
       "command": "%sql WITH q AS (SELECT \n  brand,\n  SUM(CASE WHEN sentiment = 1 THEN count ELSE 0 END) AS positive_count,\n  SUM(CASE WHEN sentiment = 0 THEN count ELSE 0 END) AS negative_count,\n  ROUND(SUM(CASE WHEN sentiment = 1 THEN count ELSE 0 END) / SUM(count), 2) AS positive_ratio\nFROM delta.`/Volumes/workspace/default/my_volume/Sentiment_Project/gold_brand_sentiment_summary`\nGROUP BY brand\nORDER BY positive_ratio DESC) SELECT `brand`,SUM(`positive_ratio`) `column_2ea00bd0536`,`positive_ratio` FROM q GROUP BY `brand`,`positive_ratio`",
       "commandTitle": "Positive : Negative ratio",
       "commandType": "auto",
       "commandVersion": 0,
       "commentThread": [],
       "commentsVisible": false,
       "contentSha256Hex": null,
       "customPlotOptions": {
        "redashChart": [
         {
          "key": "type",
          "value": "CHART"
         },
         {
          "key": "options",
          "value": {
           "alignYAxesAtZero": true,
           "coefficient": 1,
           "columnConfigurationMap": {
            "series": {
             "column": "positive_ratio",
             "id": "column_2ea00bd0541"
            },
            "x": {
             "column": "brand",
             "id": "column_2ea00bd0543"
            },
            "y": [
             {
              "column": "positive_ratio",
              "id": "column_2ea00bd0536",
              "transform": "SUM"
             }
            ]
           },
           "dateTimeFormat": "YYYY-MM-DD HH:mm",
           "direction": {
            "type": "counterclockwise"
           },
           "error_y": {
            "type": "data",
            "visible": true
           },
           "globalSeriesType": "pie",
           "isAggregationOn": true,
           "legend": {
            "traceorder": "normal"
           },
           "missingValuesAsZero": true,
           "numberFormat": "0,0.[00000]",
           "percentFormat": "0[.]00%",
           "series": {
            "error_y": {
             "type": "data",
             "visible": true
            },
            "stacking": null
           },
           "seriesOptions": {
            "column_2ea00bd0536": {
             "type": "pie",
             "yAxis": 0
            }
           },
           "showDataLabels": false,
           "sizemode": "diameter",
           "sortX": true,
           "sortY": true,
           "swappedAxes": false,
           "textFormat": "",
           "useAggregationsUi": true,
           "valuesOptions": {},
           "version": 2,
           "xAxis": {
            "labels": {
             "enabled": true
            },
            "type": "-"
           },
           "yAxis": [
            {
             "type": "-"
            },
            {
             "opposite": true,
             "type": "-"
            }
           ]
          }
         }
        ]
       },
       "datasetPreviewNameToCmdIdMap": {},
       "diffDeletes": [],
       "diffInserts": [],
       "displayType": "redashChart",
       "error": null,
       "errorDetails": null,
       "errorSummary": null,
       "errorTraceType": null,
       "finishTime": 0,
       "globalVars": {},
       "guid": "",
       "height": "auto",
       "hideCommandCode": false,
       "hideCommandResult": false,
       "iPythonMetadata": null,
       "inputWidgets": {},
       "isLockedInExamMode": false,
       "latestAssumeRoleInfo": null,
       "latestUser": "a user",
       "latestUserId": null,
       "listResultMetadata": null,
       "metadata": {},
       "nuid": "127165d8-0c30-48db-b90f-0368beb0a3a3",
       "origId": 0,
       "parentHierarchy": [],
       "pivotAggregation": null,
       "pivotColumns": null,
       "position": 6.0,
       "resultDbfsErrorMessage": null,
       "resultDbfsStatus": "INLINED_IN_TREE",
       "results": null,
       "showCommandTitle": false,
       "startTime": 0,
       "state": "input",
       "streamStates": {},
       "subcommandOptions": {
        "queryPlan": {
         "groups": [
          {
           "column": "brand",
           "type": "column"
          },
          {
           "column": "positive_ratio",
           "type": "column"
          }
         ],
         "selects": [
          {
           "column": "brand",
           "type": "column"
          },
          {
           "alias": "column_2ea00bd0536",
           "args": [
            {
             "column": "positive_ratio",
             "type": "column"
            }
           ],
           "function": "SUM",
           "type": "function"
          },
          {
           "column": "positive_ratio",
           "type": "column"
          }
         ]
        },
        "redashId": "9fbf2e5c-6102-4468-8c27-b35ade908d54",
        "redashLastUpdated": 1757441951000
       },
       "submitTime": 0,
       "subtype": "tableResultSubCmd.visualization",
       "tableResultIndex": 0,
       "tableResultSettingsMap": {},
       "useConsistentColors": false,
       "version": "CommandV1",
       "width": "auto",
       "workflows": null,
       "xColumns": null,
       "yColumns": null
      }
     },
     "output_type": "display_data"
    }
   ],
   "source": [
    "-- Sentiment Distribution by Brand\n",
    "SELECT * FROM delta.`/Volumes/workspace/default/my_volume/Sentiment_Project/gold_brand_sentiment_summary`\n",
    "ORDER BY brand, sentiment;\n",
    "\n",
    "-- Overall Sentiment Distribution\n",
    "SELECT \n",
    "  brand,\n",
    "  SUM(CASE WHEN sentiment = 1 THEN count ELSE 0 END) AS positive_count,\n",
    "  SUM(CASE WHEN sentiment = 0 THEN count ELSE 0 END) AS negative_count,\n",
    "  ROUND(SUM(CASE WHEN sentiment = 1 THEN count ELSE 0 END) / SUM(count), 2) AS positive_ratio\n",
    "FROM delta.`/Volumes/workspace/default/my_volume/Sentiment_Project/gold_brand_sentiment_summary`\n",
    "GROUP BY brand\n",
    "ORDER BY positive_ratio DESC;\n",
    "\n",
    "-- Sentiment Ratio\n",
    "SELECT \n",
    "  brand,\n",
    "  SUM(CASE WHEN sentiment = 1 THEN count ELSE 0 END) AS positive_count,\n",
    "  SUM(CASE WHEN sentiment = 0 THEN count ELSE 0 END) AS negative_count,\n",
    "  ROUND(SUM(CASE WHEN sentiment = 1 THEN count ELSE 0 END) / SUM(count), 2) AS positive_ratio\n",
    "FROM delta.`/Volumes/workspace/default/my_volume/Sentiment_Project/gold_brand_sentiment_summary`\n",
    "GROUP BY brand\n",
    "ORDER BY positive_ratio DESC"
   ]
  }
 ],
 "metadata": {
  "application/vnd.databricks.v1+notebook": {
   "computePreferences": null,
   "dashboards": [],
   "environmentMetadata": null,
   "inputWidgetPreferences": null,
   "language": "sql",
   "notebookMetadata": {
    "sqlQueryOptions": {
     "applyAutoLimit": true,
     "catalog": "workspace",
     "schema": "default"
    }
   },
   "notebookName": "Brand Sentiment Summary.dbquery.ipynb",
   "widgets": {}
  },
  "language_info": {
   "name": "sql"
  }
 },
 "nbformat": 4,
 "nbformat_minor": 0
}
