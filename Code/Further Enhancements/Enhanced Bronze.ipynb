{
 "cells": [
  {
   "cell_type": "code",
   "execution_count": 0,
   "metadata": {
    "application/vnd.databricks.v1+cell": {
     "cellMetadata": {
      "byteLimit": 2048000,
      "rowLimit": 10000
     },
     "inputWidgets": {},
     "nuid": "84631ae5-3ef3-4e0f-ab40-dc00e34d402e",
     "showTitle": false,
     "tableResultSettingsMap": {},
     "title": ""
    }
   },
   "outputs": [],
   "source": [
    "from pyspark.sql import SparkSession\n",
    "\n",
    "new_bronze_path = '/Volumes/workspace/default/my_volume/Sentiment_Project/input_files/new_dataset/'\n",
    "new_bronze_table_path = '/Volumes/workspace/default/my_volume/Sentiment_Project/enhancements/bronze_tweets'\n",
    "new_checkpoints_path = '/Volumes/workspace/default/my_volume/Sentiment_Project/enhancements/checkpoints/bronze'"
   ]
  },
  {
   "cell_type": "code",
   "execution_count": 0,
   "metadata": {
    "application/vnd.databricks.v1+cell": {
     "cellMetadata": {
      "byteLimit": 2048000,
      "rowLimit": 10000
     },
     "inputWidgets": {},
     "nuid": "4e6667db-b767-4c24-8a4b-ef48d8f0a027",
     "showTitle": false,
     "tableResultSettingsMap": {},
     "title": ""
    }
   },
   "outputs": [],
   "source": [
    "from pyspark.sql.types import StructType, StructField, IntegerType, StringType\n",
    "from pyspark.sql.functions import col, when, to_timestamp, hour, date_format\n",
    "\n",
    "demographic_schema = StructType([\n",
    "    StructField('text_id', StringType(), True),\n",
    "    StructField('text', StringType(), True),\n",
    "    StructField('Selected_text', StringType(), True),\n",
    "    StructField('sentiment', StringType(), True),\n",
    "    StructField('Time_of_Tweet', StringType(), True),\n",
    "    StructField('Age_of_User', StringType(), True),\n",
    "    StructField('Country', StringType(), True),\n",
    "    StructField('Population_2020', IntegerType(), True),\n",
    "    StructField('Land_Area_km2', IntegerType(), True),\n",
    "    StructField('Density_P_km2', IntegerType(), True)\n",
    "])"
   ]
  },
  {
   "cell_type": "code",
   "execution_count": 0,
   "metadata": {
    "application/vnd.databricks.v1+cell": {
     "cellMetadata": {
      "byteLimit": 2048000,
      "rowLimit": 10000
     },
     "inputWidgets": {},
     "nuid": "b2850e07-f04c-44bf-b9e0-c29bc43426e2",
     "showTitle": false,
     "tableResultSettingsMap": {},
     "title": ""
    }
   },
   "outputs": [],
   "source": [
    "demographic_df = (\n",
    "    spark.readStream.format('cloudFiles')\n",
    "    .option('cloudFiles.format', 'csv')\n",
    "    .option('header', 'true')\n",
    "    .schema(demographic_schema)\n",
    "    .load(new_bronze_path)\n",
    ")"
   ]
  },
  {
   "cell_type": "code",
   "execution_count": 0,
   "metadata": {
    "application/vnd.databricks.v1+cell": {
     "cellMetadata": {
      "byteLimit": 2048000,
      "rowLimit": 10000
     },
     "inputWidgets": {},
     "nuid": "a296c5c6-d008-4cbc-910d-68b0e0b52d61",
     "showTitle": false,
     "tableResultSettingsMap": {},
     "title": ""
    }
   },
   "outputs": [],
   "source": [
    "(\n",
    "    demographic_df.writeStream\n",
    "    .format('delta')\n",
    "    .outputMode('append')\n",
    "    .option('checkpointLocation', new_checkpoints_path)\n",
    "    .trigger(availableNow = True)\n",
    "    .start(new_bronze_table_path)\n",
    ")"
   ]
  },
  {
   "cell_type": "code",
   "execution_count": 0,
   "metadata": {
    "application/vnd.databricks.v1+cell": {
     "cellMetadata": {
      "byteLimit": 2048000,
      "rowLimit": 10000
     },
     "inputWidgets": {},
     "nuid": "fad47743-dc82-4142-981c-a16edf52872f",
     "showTitle": false,
     "tableResultSettingsMap": {},
     "title": ""
    }
   },
   "outputs": [],
   "source": [
    "bronze_df = spark.read.format('delta').load(new_bronze_table_path)"
   ]
  },
  {
   "cell_type": "code",
   "execution_count": 0,
   "metadata": {
    "application/vnd.databricks.v1+cell": {
     "cellMetadata": {
      "byteLimit": 2048000,
      "rowLimit": 10000
     },
     "inputWidgets": {},
     "nuid": "3f6aa8d1-00ad-492d-9f8b-f61b7590462f",
     "showTitle": false,
     "tableResultSettingsMap": {},
     "title": ""
    }
   },
   "outputs": [],
   "source": [
    "print(f\"Total records: {bronze_df.count()}\")\n",
    "display(bronze_df.limit(10))"
   ]
  }
 ],
 "metadata": {
  "application/vnd.databricks.v1+notebook": {
   "computePreferences": {
    "hardware": {
     "accelerator": null,
     "gpuPoolId": null,
     "memory": null
    }
   },
   "dashboards": [],
   "environmentMetadata": {
    "base_environment": "",
    "environment_version": "3"
   },
   "inputWidgetPreferences": null,
   "language": "python",
   "notebookMetadata": {
    "pythonIndentUnit": 4
   },
   "notebookName": "Enhanced Bronze",
   "widgets": {}
  },
  "language_info": {
   "name": "python"
  }
 },
 "nbformat": 4,
 "nbformat_minor": 0
}
