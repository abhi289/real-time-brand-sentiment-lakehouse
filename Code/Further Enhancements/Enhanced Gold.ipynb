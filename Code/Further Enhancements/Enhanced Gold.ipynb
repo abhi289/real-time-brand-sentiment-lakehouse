{
 "cells": [
  {
   "cell_type": "code",
   "execution_count": 0,
   "metadata": {
    "application/vnd.databricks.v1+cell": {
     "cellMetadata": {
      "byteLimit": 2048000,
      "rowLimit": 10000
     },
     "inputWidgets": {},
     "nuid": "d417e716-e49e-4ba8-be1c-0d552fe42192",
     "showTitle": false,
     "tableResultSettingsMap": {},
     "title": ""
    }
   },
   "outputs": [],
   "source": [
    "from pyspark.sql.functions import col, regexp_replace, lower, when, size, avg, count\n",
    "source = '/Volumes/workspace/default/my_volume/Sentiment_Project/enhancements/silver_tweets'\n",
    "silver_df = spark.read.format('delta').load(source)"
   ]
  },
  {
   "cell_type": "code",
   "execution_count": 0,
   "metadata": {
    "application/vnd.databricks.v1+cell": {
     "cellMetadata": {
      "byteLimit": 2048000,
      "rowLimit": 10000
     },
     "collapsed": true,
     "inputWidgets": {},
     "nuid": "b5bbd6aa-504e-4405-854c-b8ffdc54f00d",
     "showTitle": false,
     "tableResultSettingsMap": {},
     "title": ""
    }
   },
   "outputs": [],
   "source": [
    "display(silver_df.filter(col('Has_Brand_mention') > 0).limit(10))"
   ]
  },
  {
   "cell_type": "markdown",
   "metadata": {
    "application/vnd.databricks.v1+cell": {
     "cellMetadata": {},
     "inputWidgets": {},
     "nuid": "fda841e8-6994-4f27-958b-fd937953d9b2",
     "showTitle": false,
     "tableResultSettingsMap": {},
     "title": ""
    }
   },
   "source": [
    "##**Multi-dimensional Gold Tables**"
   ]
  },
  {
   "cell_type": "markdown",
   "metadata": {
    "application/vnd.databricks.v1+cell": {
     "cellMetadata": {},
     "inputWidgets": {},
     "nuid": "5795e582-961b-4c6d-a5d3-920c8b34c914",
     "showTitle": false,
     "tableResultSettingsMap": {},
     "title": ""
    }
   },
   "source": [
    "### **1. Geographic Analysis**"
   ]
  },
  {
   "cell_type": "code",
   "execution_count": 0,
   "metadata": {
    "application/vnd.databricks.v1+cell": {
     "cellMetadata": {
      "byteLimit": 2048000,
      "rowLimit": 10000
     },
     "inputWidgets": {},
     "nuid": "9da9ead4-1ea7-4ee6-8fd7-ae0b1af93e14",
     "showTitle": false,
     "tableResultSettingsMap": {},
     "title": ""
    }
   },
   "outputs": [],
   "source": [
    "geo_sentiment = (\n",
    "  silver_df.filter(\n",
    "  col('Has_Brand_mention') > 0)\n",
    "  .groupBy(\n",
    "  'Country', 'Sentiment', 'Sentiment_score'\n",
    ").agg(\n",
    "  count('*').alias('Count'),\n",
    "  avg('Sentiment_score').alias('Average_Sentiment')\n",
    "))\n",
    "\n",
    "geo_sentiment.write.format('delta').mode('overwrite').option('mergeSchema', 'true').save('/Volumes/workspace/default/my_volume/Sentiment_Project/enhancements/gold/geo_sentiment')"
   ]
  },
  {
   "cell_type": "markdown",
   "metadata": {
    "application/vnd.databricks.v1+cell": {
     "cellMetadata": {
      "byteLimit": 2048000,
      "rowLimit": 10000
     },
     "inputWidgets": {},
     "nuid": "e715be1b-5e14-41a6-a1c9-6e922e75efe5",
     "showTitle": false,
     "tableResultSettingsMap": {},
     "title": ""
    }
   },
   "source": [
    "### **2. Age Group Analysis**"
   ]
  },
  {
   "cell_type": "code",
   "execution_count": 0,
   "metadata": {
    "application/vnd.databricks.v1+cell": {
     "cellMetadata": {
      "byteLimit": 2048000,
      "rowLimit": 10000
     },
     "inputWidgets": {},
     "nuid": "82418da5-b50b-405d-b431-a517f60189d5",
     "showTitle": false,
     "tableResultSettingsMap": {},
     "title": ""
    }
   },
   "outputs": [],
   "source": [
    "age_sentiment = (\n",
    "  silver_df.filter(col('Has_Brand_mention')==1)\n",
    "  .groupBy('Age_group','Sentiment', 'Country', 'Sentiment_score')\n",
    "  .agg(count('*').alias('Count'))\n",
    ")\n",
    "\n",
    "age_sentiment.write.format('delta').mode('overwrite').save('/Volumes/workspace/default/my_volume/Sentiment_Project/enhancements/gold/age_sentiment')"
   ]
  },
  {
   "cell_type": "markdown",
   "metadata": {
    "application/vnd.databricks.v1+cell": {
     "cellMetadata": {
      "byteLimit": 2048000,
      "rowLimit": 10000
     },
     "inputWidgets": {},
     "nuid": "28d985dc-dd71-4177-8db7-7cd62a5e5a12",
     "showTitle": false,
     "tableResultSettingsMap": {},
     "title": ""
    }
   },
   "source": [
    "### **3. Time Analysis**"
   ]
  },
  {
   "cell_type": "code",
   "execution_count": 0,
   "metadata": {
    "application/vnd.databricks.v1+cell": {
     "cellMetadata": {
      "byteLimit": 2048000,
      "rowLimit": 10000
     },
     "inputWidgets": {},
     "nuid": "20b088cf-36b8-46a4-b878-6bad52cd3afc",
     "showTitle": false,
     "tableResultSettingsMap": {},
     "title": ""
    }
   },
   "outputs": [],
   "source": [
    "time_sentiment = (\n",
    "  silver_df.filter(col('Has_Brand_mention') == 1)\n",
    "  .groupBy('Time_category', 'Sentiment', 'Country', 'Sentiment_score')\n",
    "  .agg(count('*').alias('Count'))\n",
    ")\n",
    "\n",
    "time_sentiment.write.format('delta').mode('overwrite').save('/Volumes/workspace/default/my_volume/Sentiment_Project/enhancements/gold/time_sentiment')"
   ]
  },
  {
   "cell_type": "markdown",
   "metadata": {
    "application/vnd.databricks.v1+cell": {
     "cellMetadata": {
      "byteLimit": 2048000,
      "rowLimit": 10000
     },
     "inputWidgets": {},
     "nuid": "b37bc39d-d7d3-4747-9781-03d63e0c4a77",
     "showTitle": false,
     "tableResultSettingsMap": {},
     "title": ""
    }
   },
   "source": [
    "### **4. Brand + Demographic _Cross-Analysis_**"
   ]
  },
  {
   "cell_type": "code",
   "execution_count": 0,
   "metadata": {
    "application/vnd.databricks.v1+cell": {
     "cellMetadata": {
      "byteLimit": 2048000,
      "rowLimit": 10000
     },
     "inputWidgets": {},
     "nuid": "ff1d14dd-8f2f-4e55-9039-07a26e900ceb",
     "showTitle": false,
     "tableResultSettingsMap": {},
     "title": ""
    }
   },
   "outputs": [],
   "source": [
    "from pyspark.sql.functions import explode\n",
    "\n",
    "brand_demo_sentiment = (\n",
    "  silver_df.filter(col('Has_Brand_mention') == 1)\n",
    "  .withColumn('Brand', explode(col('Detected_brands')))\n",
    "  .groupBy('Brand', 'Age_group', 'Time_category', 'Country', 'Sentiment', 'Sentiment_score')\n",
    "  .agg(count('*').alias('Count'))\n",
    ")\n",
    "\n",
    "brand_demo_sentiment.write.format('delta').mode('overwrite').save('/Volumes/workspace/default/my_volume/Sentiment_Project/enhancements/gold/brand_demo_sentiment')"
   ]
  },
  {
   "cell_type": "code",
   "execution_count": 0,
   "metadata": {
    "application/vnd.databricks.v1+cell": {
     "cellMetadata": {
      "byteLimit": 2048000,
      "rowLimit": 10000
     },
     "inputWidgets": {},
     "nuid": "cdaf61fb-8e80-4cbc-9c02-a70e781a9080",
     "showTitle": false,
     "tableResultSettingsMap": {},
     "title": ""
    }
   },
   "outputs": [],
   "source": [
    "display(brand_demo_sentiment.limit(100))"
   ]
  }
 ],
 "metadata": {
  "application/vnd.databricks.v1+notebook": {
   "computePreferences": {
    "hardware": {
     "accelerator": null,
     "gpuPoolId": null,
     "memory": null
    }
   },
   "dashboards": [],
   "environmentMetadata": {
    "base_environment": "",
    "environment_version": "3"
   },
   "inputWidgetPreferences": null,
   "language": "python",
   "notebookMetadata": {
    "pythonIndentUnit": 4
   },
   "notebookName": "Enhanced Gold",
   "widgets": {}
  },
  "language_info": {
   "name": "python"
  }
 },
 "nbformat": 4,
 "nbformat_minor": 0
}
