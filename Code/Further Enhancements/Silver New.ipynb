{
 "cells": [
  {
   "cell_type": "code",
   "execution_count": 0,
   "metadata": {
    "application/vnd.databricks.v1+cell": {
     "cellMetadata": {
      "byteLimit": 2048000,
      "rowLimit": 10000
     },
     "inputWidgets": {},
     "nuid": "267c7995-1803-4461-8014-7d28592c4ce1",
     "showTitle": false,
     "tableResultSettingsMap": {},
     "title": ""
    }
   },
   "outputs": [],
   "source": [
    "source = '/Volumes/workspace/default/my_volume/Sentiment_Project/enhancements/bronze_tweets'\n",
    "new_silver_path = '/Volumes/workspace/default/my_volume/Sentiment_Project/enhancements/silver_tweets'\n",
    "\n",
    "bronze_df = spark.read.format('delta').load(source)\n",
    "display(bronze_df.limit(10))"
   ]
  },
  {
   "cell_type": "code",
   "execution_count": 0,
   "metadata": {
    "application/vnd.databricks.v1+cell": {
     "cellMetadata": {
      "byteLimit": 2048000,
      "rowLimit": 10000
     },
     "inputWidgets": {},
     "nuid": "497c6083-1189-4d4f-bd53-66e7ebdfe699",
     "showTitle": false,
     "tableResultSettingsMap": {},
     "title": ""
    }
   },
   "outputs": [],
   "source": [
    "brand_keywords = {\n",
    "    \"apple\": [\"iphone\", \"ipad\", \"macbook\", \"apple\", \"macos\", \"ios\", \"applestore\", \"tim cook\", \"apple inc\", \"mac pro\", \"airpods\", \"appple\", \"iphone\", \"mac\"],\n",
    "    \"google\": [\"google\", \"android\", \"pixel\", \"chrome\", \"youtube\", \"gmail\", \"googledrive\", \"google cloud\", \"googl\", \"android phone\", \"youtube video\"],\n",
    "    \"microsoft\": [\"microsoft\", \"windows\", \"surface\", \"xbox\", \"azure\", \"office365\", \"teams\", \"msft\", \"outlook\", \"word\", \"excel\"],\n",
    "    \"samsung\": [\"samsung\", \"galaxy\", \"note\", \"fold\", \"zflip\", \"android\", \"oneui\", \"samsung phone\", \"galaxy s\", \"galaxy note\", \"samsing\"],\n",
    "    \"amazon\": [\"amazon\", \"alexa\", \"kindle\", \"primevideo\", \"aws\", \"echo dot\", \"amazon prime\", \"amazon echo\", \"amazon com\", \"amazon\"]\n",
    "}"
   ]
  },
  {
   "cell_type": "code",
   "execution_count": 0,
   "metadata": {
    "application/vnd.databricks.v1+cell": {
     "cellMetadata": {
      "byteLimit": 2048000,
      "rowLimit": 10000
     },
     "inputWidgets": {},
     "nuid": "4ee90497-3215-42ed-b89f-32caa0a52dc2",
     "showTitle": false,
     "tableResultSettingsMap": {},
     "title": ""
    }
   },
   "outputs": [],
   "source": [
    "def detect_brands(text):\n",
    "    if text is None:\n",
    "        return[]\n",
    "    else:\n",
    "        text_lower = text.lower()\n",
    "        detected_brands = []\n",
    "        for brand, keywords in brand_keywords.items():\n",
    "            for keyword in keywords: # Using raw string prefix(r) and word boundry anchors to match whole words only\n",
    "                if re.search(r'\\b' + re.escape(keyword) + r'\\b', text_lower):\n",
    "                    detected_brands.append(brand)\n",
    "                    break\n",
    "\n",
    "        return detected_brands"
   ]
  },
  {
   "cell_type": "code",
   "execution_count": 0,
   "metadata": {
    "application/vnd.databricks.v1+cell": {
     "cellMetadata": {
      "byteLimit": 2048000,
      "rowLimit": 10000
     },
     "inputWidgets": {},
     "nuid": "60e5910b-ea4a-42a7-8e8c-68d71bf475bf",
     "showTitle": false,
     "tableResultSettingsMap": {},
     "title": ""
    }
   },
   "outputs": [],
   "source": [
    "from pyspark.sql.types import StringType, ArrayType\n",
    "detect_brands_udf = udf(detect_brands, ArrayType(StringType()))"
   ]
  },
  {
   "cell_type": "markdown",
   "metadata": {
    "application/vnd.databricks.v1+cell": {
     "cellMetadata": {
      "byteLimit": 2048000,
      "rowLimit": 10000
     },
     "inputWidgets": {},
     "nuid": "276d271b-8ec2-4700-8601-e1b2269c7b79",
     "showTitle": false,
     "tableResultSettingsMap": {},
     "title": ""
    }
   },
   "source": [
    "**Cleaning**"
   ]
  },
  {
   "cell_type": "code",
   "execution_count": 0,
   "metadata": {
    "application/vnd.databricks.v1+cell": {
     "cellMetadata": {
      "byteLimit": 2048000,
      "rowLimit": 10000
     },
     "inputWidgets": {},
     "nuid": "8ff425d0-45fb-429d-8c33-f226f7528378",
     "showTitle": false,
     "tableResultSettingsMap": {},
     "title": ""
    }
   },
   "outputs": [],
   "source": [
    "from pyspark.sql.functions import col, regexp_replace, lower, when, size\n",
    "import re\n",
    "\n",
    "enhanced_df = bronze_df.withColumn(\n",
    "    'Cleaned_text',\n",
    "    regexp_replace(lower(col('text')), '[^a-zA-Z0-9]', ' ')\n",
    ").withColumn(\n",
    "    'Detected_brands',\n",
    "    detect_brands_udf(col('Cleaned_text'))\n",
    ").withColumn(\n",
    "    'Age_group',\n",
    "    col('Age_of_User')\n",
    ").withColumn(\n",
    "    'Time_category',\n",
    "    col('Time_of_Tweet')\n",
    ").withColumn(\n",
    "    'Has_Brand_mention',\n",
    "    when(size(col('Detected_brands'))>0, 1).otherwise(0)\n",
    ").select(\n",
    "    'Cleaned_text',\n",
    "    'Detected_brands',\n",
    "    'Age_group',\n",
    "    'Time_category',\n",
    "    'Has_Brand_mention'\n",
    ")"
   ]
  },
  {
   "cell_type": "code",
   "execution_count": 0,
   "metadata": {
    "application/vnd.databricks.v1+cell": {
     "cellMetadata": {
      "byteLimit": 2048000,
      "rowLimit": 10000
     },
     "inputWidgets": {},
     "nuid": "e62199bf-52bb-46fe-9436-71723f64c084",
     "showTitle": false,
     "tableResultSettingsMap": {},
     "title": ""
    }
   },
   "outputs": [],
   "source": [
    "display(enhanced_df.filter(col('Has_Brand_mention') > 0))"
   ]
  },
  {
   "cell_type": "code",
   "execution_count": 0,
   "metadata": {
    "application/vnd.databricks.v1+cell": {
     "cellMetadata": {
      "byteLimit": 2048000,
      "rowLimit": 10000
     },
     "inputWidgets": {},
     "nuid": "f5401511-48aa-4f8b-9269-0b316b068a5c",
     "showTitle": false,
     "tableResultSettingsMap": {},
     "title": ""
    }
   },
   "outputs": [],
   "source": [
    "enhanced_df.write.format('delta').mode('overwrite').save(new_silver_path)"
   ]
  }
 ],
 "metadata": {
  "application/vnd.databricks.v1+notebook": {
   "computePreferences": {
    "hardware": {
     "accelerator": null,
     "gpuPoolId": null,
     "memory": null
    }
   },
   "dashboards": [],
   "environmentMetadata": {
    "base_environment": "",
    "environment_version": "3"
   },
   "inputWidgetPreferences": null,
   "language": "python",
   "notebookMetadata": {
    "pythonIndentUnit": 4
   },
   "notebookName": "Silver New",
   "widgets": {}
  },
  "language_info": {
   "name": "python"
  }
 },
 "nbformat": 4,
 "nbformat_minor": 0
}
