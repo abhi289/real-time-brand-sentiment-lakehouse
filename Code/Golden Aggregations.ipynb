{
 "cells": [
  {
   "cell_type": "markdown",
   "metadata": {
    "application/vnd.databricks.v1+cell": {
     "cellMetadata": {},
     "inputWidgets": {},
     "nuid": "8bd25c51-4079-4e0d-b7c8-1ec9a377b3db",
     "showTitle": false,
     "tableResultSettingsMap": {},
     "title": ""
    }
   },
   "source": [
    "**Defining Paths**"
   ]
  },
  {
   "cell_type": "code",
   "execution_count": 0,
   "metadata": {
    "application/vnd.databricks.v1+cell": {
     "cellMetadata": {
      "byteLimit": 2048000,
      "rowLimit": 10000
     },
     "inputWidgets": {},
     "nuid": "a1918a9c-7ffd-4618-90d5-0b5ffc6c4350",
     "showTitle": false,
     "tableResultSettingsMap": {},
     "title": ""
    }
   },
   "outputs": [],
   "source": [
    "silver_table_path = '/Volumes/workspace/default/my_volume/Sentiment_Project/silver_tweets_cleaned/'\n",
    "gold_brand_sentiment_path = '/Volumes/workspace/default/my_volume/Sentiment_Project/gold_brand_sentiment'\n",
    "gold_summary_path = '/Volumes/workspace/default/my_volume/Sentiment_Project/gold_brand_sentiment_summary'"
   ]
  },
  {
   "cell_type": "code",
   "execution_count": 0,
   "metadata": {
    "application/vnd.databricks.v1+cell": {
     "cellMetadata": {
      "byteLimit": 2048000,
      "rowLimit": 10000
     },
     "inputWidgets": {},
     "nuid": "feb28dc4-4b62-4991-bbec-87b216ecba15",
     "showTitle": false,
     "tableResultSettingsMap": {},
     "title": ""
    }
   },
   "outputs": [],
   "source": [
    "silver_df = spark.read.format('delta').load(silver_table_path)\n",
    "print(f\"Silver table records: {silver_df.count()}\")"
   ]
  },
  {
   "cell_type": "markdown",
   "metadata": {
    "application/vnd.databricks.v1+cell": {
     "cellMetadata": {},
     "inputWidgets": {},
     "nuid": "179e3fe6-eca7-4b26-9849-b9e23c2d1fbf",
     "showTitle": false,
     "tableResultSettingsMap": {},
     "title": ""
    }
   },
   "source": [
    "**Defining _Brands Dictionary_**"
   ]
  },
  {
   "cell_type": "code",
   "execution_count": 0,
   "metadata": {
    "application/vnd.databricks.v1+cell": {
     "cellMetadata": {
      "byteLimit": 2048000,
      "rowLimit": 10000
     },
     "inputWidgets": {},
     "nuid": "196c38c0-40a0-4fb9-ac24-0df51df1c3b4",
     "showTitle": false,
     "tableResultSettingsMap": {},
     "title": ""
    }
   },
   "outputs": [],
   "source": [
    "from pyspark.sql.functions import col, explode, size, udf\n",
    "from pyspark.sql.types import StringType, ArrayType\n",
    "import re\n",
    "\n",
    "brand_keywords = {\n",
    "    \"apple\": [\"iphone\", \"ipad\", \"macbook\", \"mac\", \"apple\", \"macos\", \"ios\", \"applestore\", \"tim cook\", \"apple watch\"],\n",
    "    \"google\": [\"google\", \"android\", \"pixel\", \"chrome\", \"youtube\", \"gmail\", \"googledrive\", \"google cloud\"],\n",
    "    \"microsoft\": [\"microsoft\", \"windows\", \"surface\", \"xbox\", \"azure\", \"office365\", \"teams\", \"outlook\"],\n",
    "    \"samsung\": [\"samsung\", \"galaxy\", \"note\", \"fold\", \"zflip\", \"android\", \"oneui\", \"samsung tv\"],\n",
    "    \"amazon\": [\"amazon\", \"alexa\", \"kindle\", \"primevideo\", \"aws\", \"echo dot\", \"amazon prime\"]\n",
    "}"
   ]
  },
  {
   "cell_type": "markdown",
   "metadata": {
    "application/vnd.databricks.v1+cell": {
     "cellMetadata": {},
     "inputWidgets": {},
     "nuid": "f7418ac1-ee7e-4c5a-ac1d-9018be19a659",
     "showTitle": false,
     "tableResultSettingsMap": {},
     "title": ""
    }
   },
   "source": [
    "**Defining a UDF for brands detection from the data**"
   ]
  },
  {
   "cell_type": "code",
   "execution_count": 0,
   "metadata": {
    "application/vnd.databricks.v1+cell": {
     "cellMetadata": {
      "byteLimit": 2048000,
      "rowLimit": 10000
     },
     "inputWidgets": {},
     "nuid": "4480dc71-3d45-4820-9b67-722070d89968",
     "showTitle": false,
     "tableResultSettingsMap": {},
     "title": ""
    }
   },
   "outputs": [],
   "source": [
    "def detect_brands(text):\n",
    "  if text is None:\n",
    "    return []\n",
    "  text_lower = text.lower()\n",
    "  detected_brands = []\n",
    "\n",
    "  for brand, keywords in brand_keywords.items():\n",
    "    for keyword in keywords: # Using raw string prefix(r) and word boundry anchors to match whole words only\n",
    "      if re.search(r'\\b' + re.escape(keyword) + r'\\b', text_lower):\n",
    "        detected_brands.append(brand)\n",
    "        break\n",
    "\n",
    "  return list(set(detected_brands)) # Converting to SET to remove duplicate records"
   ]
  },
  {
   "cell_type": "code",
   "execution_count": 0,
   "metadata": {
    "application/vnd.databricks.v1+cell": {
     "cellMetadata": {
      "byteLimit": 2048000,
      "rowLimit": 10000
     },
     "inputWidgets": {},
     "nuid": "276c6705-24a4-410a-80b3-83ac475db711",
     "showTitle": false,
     "tableResultSettingsMap": {},
     "title": ""
    }
   },
   "outputs": [],
   "source": [
    "# Registering above method as a UDF\n",
    "\n",
    "detect_brands_udf = udf(detect_brands, ArrayType(StringType()))"
   ]
  },
  {
   "cell_type": "code",
   "execution_count": 0,
   "metadata": {
    "application/vnd.databricks.v1+cell": {
     "cellMetadata": {
      "byteLimit": 2048000,
      "rowLimit": 10000
     },
     "inputWidgets": {},
     "nuid": "2bdf40be-d4b5-4264-9a5b-dab575c81302",
     "showTitle": false,
     "tableResultSettingsMap": {},
     "title": ""
    }
   },
   "outputs": [],
   "source": [
    "df_with_brands = silver_df.withColumn('Detected_Brands', detect_brands_udf(col('Cleaned_Text')))"
   ]
  },
  {
   "cell_type": "markdown",
   "metadata": {
    "application/vnd.databricks.v1+cell": {
     "cellMetadata": {},
     "inputWidgets": {},
     "nuid": "610297a5-2f2d-4d87-839e-a32cfcc91578",
     "showTitle": false,
     "tableResultSettingsMap": {},
     "title": ""
    }
   },
   "source": [
    "- **Filtering data without any brand mentions**\n",
    "- **Exploding the detected brands array(list returned by UDF) to have one row per brand mention**"
   ]
  },
  {
   "cell_type": "code",
   "execution_count": 0,
   "metadata": {
    "application/vnd.databricks.v1+cell": {
     "cellMetadata": {
      "byteLimit": 2048000,
      "rowLimit": 10000
     },
     "inputWidgets": {},
     "nuid": "e2bd73fa-8c5f-4d5d-87ba-6566e9aa9366",
     "showTitle": false,
     "tableResultSettingsMap": {},
     "title": ""
    }
   },
   "outputs": [],
   "source": [
    "df_brand_mentions = df_with_brands.filter(size(col('Detected_Brands'))>0)\n",
    "\n",
    "exploded_df = df_brand_mentions.withColumn('Brand', explode(col('Detected_Brands')))"
   ]
  },
  {
   "cell_type": "markdown",
   "metadata": {
    "application/vnd.databricks.v1+cell": {
     "cellMetadata": {},
     "inputWidgets": {},
     "nuid": "2a2cd593-8a6a-44ac-9b2b-1eed2f03bbe8",
     "showTitle": false,
     "tableResultSettingsMap": {},
     "title": ""
    }
   },
   "source": [
    "**Create Gold Tables**"
   ]
  },
  {
   "cell_type": "code",
   "execution_count": 0,
   "metadata": {
    "application/vnd.databricks.v1+cell": {
     "cellMetadata": {
      "byteLimit": 2048000,
      "rowLimit": 10000
     },
     "inputWidgets": {},
     "nuid": "d9f62587-a1ae-41fa-af60-a6b17f66bbc4",
     "showTitle": false,
     "tableResultSettingsMap": {},
     "title": ""
    }
   },
   "outputs": [],
   "source": [
    "# Fetching relevant columns for a detailed gold table\n",
    "gold_detail_df = exploded_df.select('Brand', 'Sentiment', 'Cleaned_Text', 'Detected_Brands')\n",
    "\n",
    "# Writing gold detail table\n",
    "gold_detail_df.write.format('delta').mode('overwrite').save(gold_brand_sentiment_path)\n",
    "print('Detailed gold table written!')\n",
    "\n",
    "# Creating aggregated summary for dashboard\n",
    "from pyspark.sql.functions import count\n",
    "summary_df = exploded_df.groupBy('Brand', 'Sentiment').agg(count('*').alias('Count'))\n",
    "\n",
    "# Writing Summary table\n",
    "summary_df.write.format('delta').mode('overwrite').save(gold_summary_path)\n",
    "print('Summary Gold table written!')"
   ]
  },
  {
   "cell_type": "markdown",
   "metadata": {
    "application/vnd.databricks.v1+cell": {
     "cellMetadata": {},
     "inputWidgets": {},
     "nuid": "d5f5bfaa-5b87-40c6-970f-e71c54c4ce0a",
     "showTitle": false,
     "tableResultSettingsMap": {},
     "title": ""
    }
   },
   "source": [
    "**Verifying the results**"
   ]
  },
  {
   "cell_type": "code",
   "execution_count": 0,
   "metadata": {
    "application/vnd.databricks.v1+cell": {
     "cellMetadata": {
      "byteLimit": 2048000,
      "rowLimit": 10000
     },
     "inputWidgets": {},
     "nuid": "f5d96294-eb2f-4ef2-ad44-886acb2bbf75",
     "showTitle": false,
     "tableResultSettingsMap": {},
     "title": ""
    }
   },
   "outputs": [],
   "source": [
    "# Reading and displaying summary\n",
    "\n",
    "summary_df = spark.read.format('delta').load(gold_summary_path)\n",
    "display(summary_df.orderBy('Brand', 'Sentiment'))\n",
    "\n",
    "print(f\"Total brand mentions: {summary_df.count()}\")\n",
    "print(f\"Unique brands mentioned: {summary_df.select('Brand').distinct().count()}\")"
   ]
  },
  {
   "cell_type": "code",
   "execution_count": 0,
   "metadata": {
    "application/vnd.databricks.v1+cell": {
     "cellMetadata": {},
     "inputWidgets": {},
     "nuid": "e05775c7-0993-45fc-8516-c59eda22b3e6",
     "showTitle": false,
     "tableResultSettingsMap": {},
     "title": ""
    }
   },
   "outputs": [],
   "source": []
  }
 ],
 "metadata": {
  "application/vnd.databricks.v1+notebook": {
   "computePreferences": {
    "hardware": {
     "accelerator": null,
     "gpuPoolId": null,
     "memory": null
    }
   },
   "dashboards": [],
   "environmentMetadata": {
    "base_environment": "",
    "environment_version": "3"
   },
   "inputWidgetPreferences": null,
   "language": "python",
   "notebookMetadata": {
    "pythonIndentUnit": 4
   },
   "notebookName": "Golden Aggregations",
   "widgets": {}
  },
  "language_info": {
   "name": "python"
  }
 },
 "nbformat": 4,
 "nbformat_minor": 0
}
