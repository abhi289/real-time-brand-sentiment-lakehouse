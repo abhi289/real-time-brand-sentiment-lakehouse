{
 "cells": [
  {
   "cell_type": "markdown",
   "metadata": {
    "application/vnd.databricks.v1+cell": {
     "cellMetadata": {},
     "inputWidgets": {},
     "nuid": "82ecaced-ed4e-485d-a85f-80a50261e2b5",
     "showTitle": false,
     "tableResultSettingsMap": {},
     "title": ""
    }
   },
   "source": [
    "**Reading from the Bronze table**"
   ]
  },
  {
   "cell_type": "code",
   "execution_count": 0,
   "metadata": {
    "application/vnd.databricks.v1+cell": {
     "cellMetadata": {
      "byteLimit": 2048000,
      "rowLimit": 10000
     },
     "inputWidgets": {},
     "nuid": "0ef1080e-fc0b-4289-97b8-8b7a7acddd75",
     "showTitle": false,
     "tableResultSettingsMap": {},
     "title": ""
    }
   },
   "outputs": [],
   "source": [
    "bronze_table_path = '/Volumes/workspace/default/my_volume/Sentiment_Project/bronze_tweets/'\n",
    "\n",
    "bronze_df = spark.read.format('delta').load(bronze_table_path)\n",
    "print(f\"Total records: {bronze_df.count()}\")\n",
    "display(bronze_df.limit(10))"
   ]
  },
  {
   "cell_type": "markdown",
   "metadata": {
    "application/vnd.databricks.v1+cell": {
     "cellMetadata": {},
     "inputWidgets": {},
     "nuid": "c8f14e14-aa7e-4283-9d49-bf1d2be4801f",
     "showTitle": false,
     "tableResultSettingsMap": {},
     "title": ""
    }
   },
   "source": [
    "**Data Cleaning**"
   ]
  },
  {
   "cell_type": "code",
   "execution_count": 0,
   "metadata": {
    "application/vnd.databricks.v1+cell": {
     "cellMetadata": {
      "byteLimit": 2048000,
      "rowLimit": 10000
     },
     "inputWidgets": {},
     "nuid": "662b2a2a-3c91-4faa-914a-286befd3d8d1",
     "showTitle": false,
     "tableResultSettingsMap": {},
     "title": ""
    }
   },
   "outputs": [],
   "source": [
    "from pyspark.sql.functions import regexp_replace, trim, lower, col\n",
    "\n",
    "silver_df = bronze_df.withColumn(\n",
    "    'Cleaned_Text',\n",
    "    regexp_replace(\n",
    "        lower(\n",
    "            regexp_replace(\n",
    "                col('Sentence'),\n",
    "                '[^a-zA-Z0-9\\\\s]', # --> Removing non alphanumeric characters (keeping only letters, numbers, and spaces)\n",
    "                ' ' # Replacing with a space\n",
    "                )\n",
    "        ),\n",
    "        'https\\\\s+', # --> Removing URLs\n",
    "        ''\n",
    "    )\n",
    ").withColumn(\n",
    "    'Cleaned_Text',\n",
    "    regexp_replace(\n",
    "        trim(col('Cleaned_Text')), # --> Removing leading and trailing spaces\n",
    "        '\\\\s+', # --> Replacing multiple spaces with a single space\n",
    "        ' '\n",
    "    )\n",
    ")"
   ]
  },
  {
   "cell_type": "markdown",
   "metadata": {
    "application/vnd.databricks.v1+cell": {
     "cellMetadata": {},
     "inputWidgets": {},
     "nuid": "086f8f3b-21e6-4620-908a-a11a0a6946a7",
     "showTitle": false,
     "tableResultSettingsMap": {},
     "title": ""
    }
   },
   "source": [
    "**Display cleaned data**"
   ]
  },
  {
   "cell_type": "code",
   "execution_count": 0,
   "metadata": {
    "application/vnd.databricks.v1+cell": {
     "cellMetadata": {
      "byteLimit": 2048000,
      "rowLimit": 10000
     },
     "inputWidgets": {},
     "nuid": "ed7acd06-c745-46bd-bf1e-9cfb590e7e11",
     "showTitle": false,
     "tableResultSettingsMap": {
      "0": {
       "dataGridStateBlob": "{\"version\":1,\"tableState\":{\"columnPinning\":{\"left\":[\"#row_number#\"],\"right\":[]},\"columnSizing\":{},\"columnVisibility\":{}},\"settings\":{\"columns\":{}},\"syncTimestamp\":1757411617881}",
       "filterBlob": null,
       "queryPlanFiltersBlob": null,
       "tableResultIndex": 0
      }
     },
     "title": ""
    }
   },
   "outputs": [],
   "source": [
    "display(silver_df.limit(10).select('Sentence','Cleaned_Text','Sentiment'))"
   ]
  },
  {
   "cell_type": "markdown",
   "metadata": {
    "application/vnd.databricks.v1+cell": {
     "cellMetadata": {},
     "inputWidgets": {},
     "nuid": "e814abe3-8597-4706-967f-1a3968e5f77b",
     "showTitle": false,
     "tableResultSettingsMap": {},
     "title": ""
    }
   },
   "source": [
    "**Writing the cleaned data to the _Silver Table_**"
   ]
  },
  {
   "cell_type": "code",
   "execution_count": 0,
   "metadata": {
    "application/vnd.databricks.v1+cell": {
     "cellMetadata": {
      "byteLimit": 2048000,
      "rowLimit": 10000
     },
     "inputWidgets": {},
     "nuid": "43369b82-7cfd-480a-a0aa-df66ba4a2515",
     "showTitle": false,
     "tableResultSettingsMap": {},
     "title": ""
    }
   },
   "outputs": [],
   "source": [
    "silver_table_path = '/Volumes/workspace/default/my_volume/Sentiment_Project/silver_tweets_cleaned'\n",
    "\n",
    "silver_df.write.format('delta').mode('overwrite').save(silver_table_path)"
   ]
  },
  {
   "cell_type": "markdown",
   "metadata": {
    "application/vnd.databricks.v1+cell": {
     "cellMetadata": {},
     "inputWidgets": {},
     "nuid": "5385dec3-489d-414b-a5a4-081ed6c5ef28",
     "showTitle": false,
     "tableResultSettingsMap": {},
     "title": ""
    }
   },
   "source": [
    "**Verifying silver _Table_**"
   ]
  },
  {
   "cell_type": "code",
   "execution_count": 0,
   "metadata": {
    "application/vnd.databricks.v1+cell": {
     "cellMetadata": {
      "byteLimit": 2048000,
      "rowLimit": 10000
     },
     "inputWidgets": {},
     "nuid": "ca5cc6ca-6a83-4529-88bb-315cd430ce56",
     "showTitle": false,
     "tableResultSettingsMap": {},
     "title": ""
    }
   },
   "outputs": [],
   "source": [
    "silver_verify_df = spark.read.format('delta').load(silver_table_path)\n",
    "print(f\"Total records in the silver table: {silver_verify_df.count()}\")\n",
    "display(silver_verify_df.select('Sentence','Cleaned_Text','Sentiment').limit(10))"
   ]
  }
 ],
 "metadata": {
  "application/vnd.databricks.v1+notebook": {
   "computePreferences": {
    "hardware": {
     "accelerator": null,
     "gpuPoolId": null,
     "memory": null
    }
   },
   "dashboards": [],
   "environmentMetadata": {
    "base_environment": "",
    "environment_version": "3"
   },
   "inputWidgetPreferences": null,
   "language": "python",
   "notebookMetadata": {
    "pythonIndentUnit": 4
   },
   "notebookName": "Silver Transformations",
   "widgets": {}
  },
  "language_info": {
   "name": "python"
  }
 },
 "nbformat": 4,
 "nbformat_minor": 0
}
